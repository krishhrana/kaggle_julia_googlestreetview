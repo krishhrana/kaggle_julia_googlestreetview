{
 "cells": [
  {
   "cell_type": "code",
   "execution_count": 42,
   "metadata": {},
   "outputs": [],
   "source": [
    "import cv2\n",
    "import numpy as np\n",
    "import pandas as pd\n",
    "import os"
   ]
  },
  {
   "cell_type": "code",
   "execution_count": 65,
   "metadata": {},
   "outputs": [
    {
     "name": "stdout",
     "output_type": "stream",
     "text": [
      "6283\n"
     ]
    }
   ],
   "source": [
    "path='/Users/krishrana/Python/julia/train_2'\n",
    "img_size=64\n",
    "training_data=[]\n",
    "\n",
    "for i in range(1,6284):\n",
    "    #print(os.path.join(path, str(i)+'.Bmp'))\n",
    "    img_array=cv2.imread(os.path.join(path, str(i)+'.BMP'))\n",
    "    new_array=cv2.resize(img_array, (img_size, img_size))\n",
    "    \n",
    "    training_data.append(new_array)\n",
    "\n",
    "print(len(training_data))"
   ]
  },
  {
   "cell_type": "code",
   "execution_count": 66,
   "metadata": {},
   "outputs": [
    {
     "data": {
      "text/plain": [
       "0    n\n",
       "1    8\n",
       "2    T\n",
       "3    I\n",
       "4    R\n",
       "Name: Class, dtype: object"
      ]
     },
     "execution_count": 66,
     "metadata": {},
     "output_type": "execute_result"
    }
   ],
   "source": [
    "df=pd.read_csv('/Users/krishrana/Python/julia/trainLabels.csv')\n",
    "labels=df.iloc[:, 1]\n",
    "labels.head()"
   ]
  },
  {
   "cell_type": "code",
   "execution_count": 67,
   "metadata": {},
   "outputs": [
    {
     "name": "stdout",
     "output_type": "stream",
     "text": [
      "[49  8 29 ... 25 23 27]\n"
     ]
    }
   ],
   "source": [
    "from sklearn import preprocessing\n",
    "labels=np.array(labels)\n",
    "le = preprocessing.LabelEncoder()\n",
    "int_labels=le.fit_transform(labels)\n",
    "print(int_labels)"
   ]
  },
  {
   "cell_type": "code",
   "execution_count": 69,
   "metadata": {},
   "outputs": [
    {
     "name": "stdout",
     "output_type": "stream",
     "text": [
      "(6283, 64, 64, 3)\n"
     ]
    }
   ],
   "source": [
    "training_data=np.array(training_data)\n",
    "training_data=training_data.reshape(6283, 64, 64, 3)\n",
    "print(training_data.shape)"
   ]
  },
  {
   "cell_type": "code",
   "execution_count": 70,
   "metadata": {},
   "outputs": [],
   "source": [
    "from tensorflow.keras.models import Sequential\n",
    "from tensorflow.keras.layers import Dense, Dropout, Activation, Flatten\n",
    "from tensorflow.keras.layers import Conv2D, MaxPooling2D\n",
    "from tensorflow.keras.utils import to_categorical\n",
    "from keras import optimizers"
   ]
  },
  {
   "cell_type": "code",
   "execution_count": 81,
   "metadata": {},
   "outputs": [
    {
     "name": "stdout",
     "output_type": "stream",
     "text": [
      "Model: \"sequential_20\"\n",
      "_________________________________________________________________\n",
      "Layer (type)                 Output Shape              Param #   \n",
      "=================================================================\n",
      "conv2d_104 (Conv2D)          (None, 62, 62, 32)        896       \n",
      "_________________________________________________________________\n",
      "max_pooling2d_56 (MaxPooling (None, 31, 31, 32)        0         \n",
      "_________________________________________________________________\n",
      "conv2d_105 (Conv2D)          (None, 29, 29, 64)        18496     \n",
      "_________________________________________________________________\n",
      "max_pooling2d_57 (MaxPooling (None, 14, 14, 64)        0         \n",
      "_________________________________________________________________\n",
      "conv2d_106 (Conv2D)          (None, 12, 12, 128)       73856     \n",
      "_________________________________________________________________\n",
      "max_pooling2d_58 (MaxPooling (None, 6, 6, 128)         0         \n",
      "_________________________________________________________________\n",
      "flatten_15 (Flatten)         (None, 4608)              0         \n",
      "_________________________________________________________________\n",
      "dense_36 (Dense)             (None, 500)               2304500   \n",
      "_________________________________________________________________\n",
      "activation_37 (Activation)   (None, 500)               0         \n",
      "_________________________________________________________________\n",
      "dropout_20 (Dropout)         (None, 500)               0         \n",
      "_________________________________________________________________\n",
      "dense_37 (Dense)             (None, 200)               100200    \n",
      "_________________________________________________________________\n",
      "activation_38 (Activation)   (None, 200)               0         \n",
      "_________________________________________________________________\n",
      "dropout_21 (Dropout)         (None, 200)               0         \n",
      "_________________________________________________________________\n",
      "dense_38 (Dense)             (None, 62)                12462     \n",
      "_________________________________________________________________\n",
      "activation_39 (Activation)   (None, 62)                0         \n",
      "=================================================================\n",
      "Total params: 2,510,410\n",
      "Trainable params: 2,510,410\n",
      "Non-trainable params: 0\n",
      "_________________________________________________________________\n"
     ]
    }
   ],
   "source": [
    "model=Sequential()\n",
    "model.add(Conv2D(32, (3,3), activation='relu', input_shape=(training_data.shape[1:])))\n",
    "#model.add(Conv2D(32, (3,3), activation='relu'))\n",
    "model.add(MaxPooling2D(2,2))\n",
    "\n",
    "model.add(Conv2D(64, (3,3), activation='relu'))\n",
    "#model.add(Conv2D(64, (3,3), activation='relu'))\n",
    "model.add(MaxPooling2D(2,2))\n",
    "\n",
    "model.add(Conv2D(128, (3,3), activation='relu'))\n",
    "#model.add(Conv2D(128, (3,3), activation='relu'))\n",
    "model.add(MaxPooling2D(2,2))\n",
    "\n",
    "model.add(Flatten())\n",
    "model.add(Dense(500))\n",
    "model.add(Activation('relu'))\n",
    "model.add(Dropout(0.25))\n",
    "model.add(Dense(200))\n",
    "model.add(Activation('relu'))\n",
    "model.add(Dropout(0.25))\n",
    "model.add(Dense(62))\n",
    "model.add(Activation('softmax'))\n",
    "\n",
    "model.summary()"
   ]
  },
  {
   "cell_type": "code",
   "execution_count": 82,
   "metadata": {},
   "outputs": [],
   "source": [
    "adam=optimizers.Adam(lr=0.001)\n",
    "batch_size=16\n",
    "epochs=30"
   ]
  },
  {
   "cell_type": "code",
   "execution_count": 83,
   "metadata": {},
   "outputs": [
    {
     "name": "stdout",
     "output_type": "stream",
     "text": [
      "[[0. 0. 0. 0. 0. 0. 0. 0. 0. 0. 0. 0. 0. 0. 0. 0. 0. 0. 0. 0. 0. 0. 0. 0.\n",
      "  0. 0. 0. 0. 0. 0. 0. 0. 0. 0. 0. 0. 0. 0. 0. 0. 0. 0. 0. 0. 0. 0. 0. 0.\n",
      "  0. 1. 0. 0. 0. 0. 0. 0. 0. 0. 0. 0. 0. 0.]\n",
      " [0. 0. 0. 0. 0. 0. 0. 0. 1. 0. 0. 0. 0. 0. 0. 0. 0. 0. 0. 0. 0. 0. 0. 0.\n",
      "  0. 0. 0. 0. 0. 0. 0. 0. 0. 0. 0. 0. 0. 0. 0. 0. 0. 0. 0. 0. 0. 0. 0. 0.\n",
      "  0. 0. 0. 0. 0. 0. 0. 0. 0. 0. 0. 0. 0. 0.]\n",
      " [0. 0. 0. 0. 0. 0. 0. 0. 0. 0. 0. 0. 0. 0. 0. 0. 0. 0. 0. 0. 0. 0. 0. 0.\n",
      "  0. 0. 0. 0. 0. 1. 0. 0. 0. 0. 0. 0. 0. 0. 0. 0. 0. 0. 0. 0. 0. 0. 0. 0.\n",
      "  0. 0. 0. 0. 0. 0. 0. 0. 0. 0. 0. 0. 0. 0.]\n",
      " [0. 0. 0. 0. 0. 0. 0. 0. 0. 0. 0. 0. 0. 0. 0. 0. 0. 0. 1. 0. 0. 0. 0. 0.\n",
      "  0. 0. 0. 0. 0. 0. 0. 0. 0. 0. 0. 0. 0. 0. 0. 0. 0. 0. 0. 0. 0. 0. 0. 0.\n",
      "  0. 0. 0. 0. 0. 0. 0. 0. 0. 0. 0. 0. 0. 0.]\n",
      " [0. 0. 0. 0. 0. 0. 0. 0. 0. 0. 0. 0. 0. 0. 0. 0. 0. 0. 0. 0. 0. 0. 0. 0.\n",
      "  0. 0. 0. 1. 0. 0. 0. 0. 0. 0. 0. 0. 0. 0. 0. 0. 0. 0. 0. 0. 0. 0. 0. 0.\n",
      "  0. 0. 0. 0. 0. 0. 0. 0. 0. 0. 0. 0. 0. 0.]]\n"
     ]
    }
   ],
   "source": [
    "training_data=training_data/255\n",
    "model.compile(loss='categorical_crossentropy', optimizer='adam', metrics=['accuracy'])\n",
    "target = to_categorical(int_labels, num_classes=62)\n",
    "print(target[:5, :])"
   ]
  },
  {
   "cell_type": "code",
   "execution_count": 84,
   "metadata": {},
   "outputs": [
    {
     "name": "stdout",
     "output_type": "stream",
     "text": [
      "Train on 5026 samples, validate on 1257 samples\n",
      "Epoch 1/30\n",
      "5026/5026 [==============================] - 22s 4ms/sample - loss: 3.8489 - acc: 0.0641 - val_loss: 3.7656 - val_acc: 0.0724\n",
      "Epoch 2/30\n",
      "5026/5026 [==============================] - 23s 5ms/sample - loss: 3.5835 - acc: 0.1315 - val_loss: 2.8419 - val_acc: 0.3270\n",
      "Epoch 3/30\n",
      "5026/5026 [==============================] - 26s 5ms/sample - loss: 2.4228 - acc: 0.3846 - val_loss: 1.9591 - val_acc: 0.5028\n",
      "Epoch 4/30\n",
      "5026/5026 [==============================] - 26s 5ms/sample - loss: 1.7028 - acc: 0.5446 - val_loss: 1.6004 - val_acc: 0.5815\n",
      "Epoch 5/30\n",
      "5026/5026 [==============================] - 29s 6ms/sample - loss: 1.3037 - acc: 0.6251 - val_loss: 1.3373 - val_acc: 0.6396\n",
      "Epoch 6/30\n",
      "5026/5026 [==============================] - 37s 7ms/sample - loss: 1.0652 - acc: 0.6858 - val_loss: 1.2806 - val_acc: 0.6587\n",
      "Epoch 7/30\n",
      "5026/5026 [==============================] - 42s 8ms/sample - loss: 0.9122 - acc: 0.7203 - val_loss: 1.2201 - val_acc: 0.6675\n",
      "Epoch 8/30\n",
      "5026/5026 [==============================] - 45s 9ms/sample - loss: 0.7727 - acc: 0.7579 - val_loss: 1.2597 - val_acc: 0.6786\n",
      "Epoch 9/30\n",
      "5026/5026 [==============================] - 51s 10ms/sample - loss: 0.6717 - acc: 0.7829 - val_loss: 1.2565 - val_acc: 0.6945\n",
      "Epoch 10/30\n",
      "5026/5026 [==============================] - 46s 9ms/sample - loss: 0.5897 - acc: 0.8114 - val_loss: 1.2341 - val_acc: 0.7001\n",
      "Epoch 11/30\n",
      "5026/5026 [==============================] - 44s 9ms/sample - loss: 0.5250 - acc: 0.8317 - val_loss: 1.2317 - val_acc: 0.6961\n",
      "Epoch 12/30\n",
      "5026/5026 [==============================] - 48s 9ms/sample - loss: 0.4420 - acc: 0.8486 - val_loss: 1.3364 - val_acc: 0.6842\n",
      "Epoch 13/30\n",
      "5026/5026 [==============================] - 54s 11ms/sample - loss: 0.4229 - acc: 0.8647 - val_loss: 1.4094 - val_acc: 0.6826\n",
      "Epoch 14/30\n",
      "5026/5026 [==============================] - 46s 9ms/sample - loss: 0.3836 - acc: 0.8784 - val_loss: 1.4028 - val_acc: 0.6810\n",
      "Epoch 15/30\n",
      "5026/5026 [==============================] - 43s 9ms/sample - loss: 0.3564 - acc: 0.8824 - val_loss: 1.4496 - val_acc: 0.6945\n",
      "Epoch 16/30\n",
      "5026/5026 [==============================] - 42s 8ms/sample - loss: 0.3332 - acc: 0.8876 - val_loss: 1.4237 - val_acc: 0.6969\n",
      "Epoch 17/30\n",
      "5026/5026 [==============================] - 36s 7ms/sample - loss: 0.2882 - acc: 0.9057 - val_loss: 1.5787 - val_acc: 0.6889\n",
      "Epoch 18/30\n",
      "5026/5026 [==============================] - 19s 4ms/sample - loss: 0.2769 - acc: 0.9095 - val_loss: 1.4192 - val_acc: 0.7072\n",
      "Epoch 19/30\n",
      "5026/5026 [==============================] - 19s 4ms/sample - loss: 0.2725 - acc: 0.9133 - val_loss: 1.5557 - val_acc: 0.6937\n",
      "Epoch 20/30\n",
      "5026/5026 [==============================] - 20s 4ms/sample - loss: 0.2434 - acc: 0.9208 - val_loss: 1.5291 - val_acc: 0.7017\n",
      "Epoch 21/30\n",
      "5026/5026 [==============================] - 20s 4ms/sample - loss: 0.2282 - acc: 0.9246 - val_loss: 1.6771 - val_acc: 0.6921\n",
      "Epoch 22/30\n",
      "5026/5026 [==============================] - 20s 4ms/sample - loss: 0.2176 - acc: 0.9322 - val_loss: 1.6063 - val_acc: 0.6810\n",
      "Epoch 23/30\n",
      "5026/5026 [==============================] - 22s 4ms/sample - loss: 0.1818 - acc: 0.9397 - val_loss: 1.7956 - val_acc: 0.6929\n",
      "Epoch 24/30\n",
      "5026/5026 [==============================] - 22s 4ms/sample - loss: 0.2053 - acc: 0.9359 - val_loss: 1.6523 - val_acc: 0.6874\n",
      "Epoch 25/30\n",
      "5026/5026 [==============================] - 21s 4ms/sample - loss: 0.1671 - acc: 0.9441 - val_loss: 1.8055 - val_acc: 0.6826\n",
      "Epoch 26/30\n",
      "5026/5026 [==============================] - 22s 4ms/sample - loss: 0.2011 - acc: 0.9377 - val_loss: 1.7577 - val_acc: 0.7033\n",
      "Epoch 27/30\n",
      "5026/5026 [==============================] - 24s 5ms/sample - loss: 0.1411 - acc: 0.9524 - val_loss: 1.7447 - val_acc: 0.7001\n",
      "Epoch 28/30\n",
      "5026/5026 [==============================] - 22s 4ms/sample - loss: 0.1628 - acc: 0.9481 - val_loss: 2.0913 - val_acc: 0.6778\n",
      "Epoch 29/30\n",
      "5026/5026 [==============================] - 23s 5ms/sample - loss: 0.1580 - acc: 0.9515 - val_loss: 1.8205 - val_acc: 0.6969\n",
      "Epoch 30/30\n",
      "5026/5026 [==============================] - 21s 4ms/sample - loss: 0.1524 - acc: 0.9503 - val_loss: 1.7715 - val_acc: 0.6881\n"
     ]
    },
    {
     "data": {
      "text/plain": [
       "<tensorflow.python.keras.callbacks.History at 0x14a059860>"
      ]
     },
     "execution_count": 84,
     "metadata": {},
     "output_type": "execute_result"
    }
   ],
   "source": [
    "\n",
    "model.fit(training_data, target, epochs=epochs, batch_size=batch_size, validation_split=0.2)"
   ]
  },
  {
   "cell_type": "code",
   "execution_count": 85,
   "metadata": {},
   "outputs": [],
   "source": [
    "model.save('streetNet.pt')"
   ]
  },
  {
   "cell_type": "code",
   "execution_count": 98,
   "metadata": {},
   "outputs": [
    {
     "name": "stdout",
     "output_type": "stream",
     "text": [
      "6220\n"
     ]
    }
   ],
   "source": [
    "path_test='/Users/krishrana/Python/julia/test'\n",
    "img_size=64\n",
    "test_data=[]\n",
    "\n",
    "for i in range(6284, 12504):\n",
    "    #print(os.path.join(path_test, str(i)+'.Bmp'))\n",
    "    img_array=cv2.imread(os.path.join(path_test, str(i)+'.BMP'))\n",
    "    new_array=cv2.resize(img_array, (img_size, img_size))\n",
    "    \n",
    "    test_data.append(new_array)\n",
    "\n",
    "print(len(test_data))"
   ]
  },
  {
   "cell_type": "code",
   "execution_count": 109,
   "metadata": {},
   "outputs": [
    {
     "name": "stdout",
     "output_type": "stream",
     "text": [
      "(6220, 64, 64, 3)\n"
     ]
    }
   ],
   "source": [
    "test_data=np.array(test_data)\n",
    "print(test_data.shape)"
   ]
  },
  {
   "cell_type": "code",
   "execution_count": 115,
   "metadata": {},
   "outputs": [],
   "source": [
    "pred=model.predict(test_data)"
   ]
  },
  {
   "cell_type": "code",
   "execution_count": 119,
   "metadata": {},
   "outputs": [
    {
     "name": "stdout",
     "output_type": "stream",
     "text": [
      "[17 14 35 ... 23 23 22]\n"
     ]
    }
   ],
   "source": [
    "y = np.argmax(pred, axis=-1)\n",
    "print(y)\n",
    "int_target=le.inverse_transform(y)\n",
    "predections=pd.DataFrame(int_target, columns=['class']).to_csv('street.csv')"
   ]
  },
  {
   "cell_type": "code",
   "execution_count": null,
   "metadata": {},
   "outputs": [],
   "source": []
  }
 ],
 "metadata": {
  "kernelspec": {
   "display_name": "Python 3",
   "language": "python",
   "name": "python3"
  },
  "language_info": {
   "codemirror_mode": {
    "name": "ipython",
    "version": 3
   },
   "file_extension": ".py",
   "mimetype": "text/x-python",
   "name": "python",
   "nbconvert_exporter": "python",
   "pygments_lexer": "ipython3",
   "version": "3.7.3"
  }
 },
 "nbformat": 4,
 "nbformat_minor": 2
}
